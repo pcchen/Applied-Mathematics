{
 "cells": [
  {
   "cell_type": "code",
   "execution_count": 1,
   "metadata": {
    "collapsed": true
   },
   "outputs": [],
   "source": [
    "%matplotlib inline\n",
    "\n",
    "import numpy as np\n",
    "import matplotlib.pyplot as plt\n",
    "from matplotlib import cm\n",
    "from mpl_toolkits.mplot3d import Axes3D\n",
    "import matplotlib.animation as animation"
   ]
  },
  {
   "cell_type": "code",
   "execution_count": null,
   "metadata": {
    "collapsed": true
   },
   "outputs": [],
   "source": [
    "## Define functions used to generate data of boundary.\n",
    "def zero(x):\n",
    "    return 0\n",
    "def slope_one(x, b=0):\n",
    "    return x+b\n",
    "def slope_minus_one(x, b=19):\n",
    "    return b-x\n",
    "def slope_one_third(x, b=0):\n",
    "    return x/3 + b\n",
    "def sin(x):\n",
    "    return np.sin(x*12/180*np.pi)\n",
    "def cos(x):\n",
    "    return np.cos(x*12/180*np.pi)"
   ]
  },
  {
   "cell_type": "code",
   "execution_count": null,
   "metadata": {
    "collapsed": true
   },
   "outputs": [],
   "source": [
    "## Generate a 3D figure.\n",
    "fig = plt.figure()\n",
    "ax = fig.gca(projection=\"3d\")\n",
    "plt.ion()"
   ]
  },
  {
   "cell_type": "code",
   "execution_count": null,
   "metadata": {
    "collapsed": true
   },
   "outputs": [],
   "source": [
    "## Define a \"plate\" class.\n",
    "## The plate class contains number of sides, width, height and a 2D numpy array of grid points.\n",
    "## Number of sides decides shape of a plate.\n",
    "## For example, sides=4 represents rectangle, sides=0 represents circle.\n",
    "## Width and height determine size of a plate.\n",
    "## The 2D numpy array of grid points records the value at every grid point, and the index \n",
    "## represents the coordinate of each data on the xy-plane."
   ]
  }
 ],
 "metadata": {
  "anaconda-cloud": {},
  "kernelspec": {
   "display_name": "Python [Root]",
   "language": "python",
   "name": "Python [Root]"
  },
  "language_info": {
   "codemirror_mode": {
    "name": "ipython",
    "version": 3
   },
   "file_extension": ".py",
   "mimetype": "text/x-python",
   "name": "python",
   "nbconvert_exporter": "python",
   "pygments_lexer": "ipython3",
   "version": "3.5.2"
  }
 },
 "nbformat": 4,
 "nbformat_minor": 0
}

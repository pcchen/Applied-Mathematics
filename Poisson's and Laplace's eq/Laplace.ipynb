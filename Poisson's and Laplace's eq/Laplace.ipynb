{
 "cells": [
  {
   "cell_type": "code",
   "execution_count": null,
   "metadata": {
    "collapsed": true
   },
   "outputs": [],
   "source": [
    "%matplotlib inline\n",
    "##%matplotlib nbagg\n",
    "\n",
    "import numpy as np\n",
    "import matplotlib.pyplot as plt\n",
    "from matplotlib import cm, rc, animation\n",
    "from mpl_toolkits.mplot3d import Axes3D\n",
    "from IPython.display import HTML\n",
    "\n",
    "plt.switch_backend(\"TkAgg\")\n",
    "plt.rcParams['animation.ffmpeg_path'] = \"/usr/local/bin/ffmpeg\""
   ]
  },
  {
   "cell_type": "code",
   "execution_count": null,
   "metadata": {
    "collapsed": true
   },
   "outputs": [],
   "source": [
    "## Define functions used to generate data of boundary.\n",
    "def zero(x):\n",
    "    return 0\n",
    "def slope_one(x, b=0):\n",
    "    return x+b\n",
    "def slope_minus_one(x, b=19):\n",
    "    return b-x\n",
    "def slope_one_third(x, b=0):\n",
    "    return x/3 + b\n",
    "def sin(x):\n",
    "    return np.sin(x*12/180*np.pi)\n",
    "def cos(x):\n",
    "    return np.cos(x*12/180*np.pi)"
   ]
  },
  {
   "cell_type": "code",
   "execution_count": null,
   "metadata": {
    "collapsed": true
   },
   "outputs": [],
   "source": [
    "## Define a \"plate\" class.\n",
    "## The plate class contains number of sides, width, length and a 2D numpy array of grid points.\n",
    "## Number of sides decides shape of a plate.\n",
    "## For example, sides=4 represents rectangle, sides=0 represents circle.\n",
    "## Width and length determine size of a plate.\n",
    "## The 2D numpy array of grid points records the value at every grid point, and the index \n",
    "## represents the coordinate of each data on the xy-plane.\n",
    "\n",
    "class plate:\n",
    "    def __init__(self, sides=4, width=10, length=10):\n",
    "        self.sides = sides\n",
    "        self.w = width\n",
    "        self.l = length\n",
    "    \n",
    "    def init_points(self):\n",
    "        if self.sides == 4:\n",
    "            self.dots = np.zeros(shape=(self.w, self.l))\n",
    "        elif self.sides == 0:\n",
    "            self.dots = np.zeros(shape=(self.w, 30))\n",
    "    \n",
    "    def set_BC(self, f_xu=zero, f_xl=zero, f_yu=zero, f_yl=zero):\n",
    "        if self.sides == 4:\n",
    "            x_max = self.w\n",
    "            y_max = self.l\n",
    "            for i in range(x_max):\n",
    "                self.dots[i][0] = f_xu(i)\n",
    "            for i in range(x_max):\n",
    "                self.dots[i][y_max-1] = f_xl(i)\n",
    "            for i in range(y_max):\n",
    "                self.dots[0][i] = f_yu(i)\n",
    "            for i in range(y_max):\n",
    "                self.dots[x_max-1][i] = f_yl(i)\n",
    "        elif self.sides == 0:\n",
    "            for i in range(30):\n",
    "                self.dots[-1][i] = f_xu(i)\n",
    "    \n",
    "    def average(self, error=0.001):\n",
    "        is_balance = True\n",
    "        if self.sides == 4:\n",
    "            row = self.w\n",
    "            col = self.l\n",
    "            for i in range(row-2):\n",
    "                i = i + 1\n",
    "                for j in range(col-2):\n",
    "                    j = j + 1\n",
    "                    tmp = (self.dots[i-1][j] + self.dots[i+1][j] + self.dots[i][j-1] + self.dots[i][j+1]) / 4\n",
    "                    if abs(tmp - self.dots[i][j]) > error:\n",
    "                        is_balance = False\n",
    "        elif self.sides == 0:\n",
    "            r = self.w\n",
    "            for i in range(r-1):\n",
    "                for j in range(30):\n",
    "                    if i == 0:\n",
    "                        tmp = (self.dots[i+1][j] + self.dots[i][(j+1)%30] + self.dots[i][j-1]) / 4\n",
    "                    else:\n",
    "                        tmp = (self.dots[i-1][j] + self.dots[i+1][j] + self.dots[i][(j+1)%30] + self.dots[i][j-1]) / 4\n",
    "                    if abs(tmp - self.dots[i][j]) > error:\n",
    "                        is_balace = False        "
   ]
  },
  {
   "cell_type": "code",
   "execution_count": null,
   "metadata": {
    "collapsed": true
   },
   "outputs": [],
   "source": [
    "## Define a \"draw_plate\" function, which will be called by \"FuncAnimation\" method to draw the graph dynamically.\n",
    "\n",
    "def draw_plate(num, plate, error):\n",
    "    if plate.sides == 4:\n",
    "        xs = np.arange(1, plate.w+1)\n",
    "        ys = np.arange(1, plate.l+1)\n",
    "        Y, X = np.meshgrid(ys, xs)\n",
    "    elif plate.sides == 0:\n",
    "        rs = np.arange(0, plate.w)\n",
    "        thetas = np.linspace(0, 2*np.pi, 30)\n",
    "        X = np.outer(rs, np.cos(thetas))\n",
    "        Y = np.outer(rs, np.sin(thetas))\n",
    "    ax.clear()\n",
    "    plate.average(error)\n",
    "    surf = ax.plot_surface(X, Y, plate.dots, rstride=1, cstride=1, cmap=cm.coolwarm, linewidth=0)"
   ]
  },
  {
   "cell_type": "code",
   "execution_count": null,
   "metadata": {
    "collapsed": false,
    "scrolled": false
   },
   "outputs": [],
   "source": [
    "## Get variables needed to construct a plate object and compute the average value.\n",
    "\n",
    "print(\"Sides: 0 = circle, 4 = rectangle.\")\n",
    "print(\"Width: Width of a rectangle, or radius of a circle.\")\n",
    "print(\"Length: Length of a rectangle. Please input 0 when using circular boundary.\")\n",
    "print(\"Error: Tolerance.\\n\\n\")\n",
    "sides = int(input(\"Sides:\"))\n",
    "width = int(input(\"Width:\"))\n",
    "length = int(input(\"Length:\"))\n",
    "error = float(input(\"Error:\"))\n",
    "\n",
    "## Construct a plate, initialize the value of grid points in the plate, and set boundary condition.\n",
    "\n",
    "pl = plate(sides, width, length)\n",
    "pl.init_points()\n",
    "pl.set_BC(cos, cos, cos, cos)\n",
    "\n",
    "## Generate a 3D figure.\n",
    "fig = plt.figure()\n",
    "ax = fig.gca(projection=\"3d\")\n",
    "\n",
    "## Draw the graph.\n",
    "\n",
    "ani = animation.FuncAnimation(fig, draw_plate, fargs=(pl, error), interval=50)\n",
    "HTML(ani.to_html5_video())\n",
    "rc(\"animation\", html=\"html5\")\n",
    "ani\n",
    "##plt.show()"
   ]
  },
  {
   "cell_type": "code",
   "execution_count": null,
   "metadata": {
    "collapsed": true
   },
   "outputs": [],
   "source": []
  }
 ],
 "metadata": {
  "anaconda-cloud": {},
  "kernelspec": {
   "display_name": "Python [Root]",
   "language": "python",
   "name": "Python [Root]"
  },
  "language_info": {
   "codemirror_mode": {
    "name": "ipython",
    "version": 3
   },
   "file_extension": ".py",
   "mimetype": "text/x-python",
   "name": "python",
   "nbconvert_exporter": "python",
   "pygments_lexer": "ipython3",
   "version": "3.5.2"
  }
 },
 "nbformat": 4,
 "nbformat_minor": 0
}
